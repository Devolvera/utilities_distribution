{
 "cells": [
  {
   "cell_type": "markdown",
   "id": "8d494a31",
   "metadata": {},
   "source": [
    "### Scoping My Data\n",
    "From what I've been learning through Codecademy, it seems that it's best to scour over the data, and then plan out my analysis accordingly. There are questions that will immediately come to mind, but as the owner of this data, it's easy to answer these questions without really using any analysis. For example:\n",
    "\n",
    "**On average, what month(s) incurred the most electricity costs?** This one is fairly easy to answer, even from someone who's never really seen this data. Summer months in Central California almost always use the most electricity of the year. The same can be said of the **gas** bill and the winter months.\n",
    "\n",
    "#### About the Data \n",
    "\n",
    "This is pretty self-explanatory; at the end of each month, I grabbed the bill for each utilities type. I then put them in a spreadsheet, totalled them, and then divided by the number of occupants living in the household. When it comes to occupants, I *could* provide context here, but I feel that for my current needs, it will be a time-waste. There will also be instances where data does not align with what you might expect. Unfortunately, I did not document the months where I received credits on bills. Also missing is the few months in 2021 where I had a crypto mining rig eating up about $50 in electricity each month. \n",
    "\n",
    "With these small cases, I will be sure to provide a tidbit of information for clarity (where I can). \n",
    "\n",
    "Because I will be analysing this data multiple times throughout my DS journey, I think it's best that I start with simple questions. As I learn more advanced methods of analysis, I can then add those questions. For example, taking the average cost of each utility type over each year and then comparing them will be much easier than doing the same but also calculating the average cost *per occupant*, and then adjusting values based on that (that actually seems pretty fun as I'm typing it out). Doing it the easy way, unfortunately, will result in skewed data most likely. But again, this is a subjective set of data and the accuracy isn't very important. \n",
    "\n",
    "By the end of this, I only hope to get better awareness on where costs go each month. I will not be using this data to make \"better business decisions.\" It will be an amusing project that will assist in my data science journey!\n",
    "\n",
    "#### So my first question will be simple: What was the average cost of each utility *per year*? Secondly, which year had the highest cost for *each* utility? Finally, which year was the most expensive *in total* utilities?\n",
    "\n",
    "***"
   ]
  },
  {
   "cell_type": "markdown",
   "id": "fcb4a042",
   "metadata": {},
   "source": [
    "First, of course, I will be needing to import the data from the csv. Initially, I'll be using the 'csv' python module. Why not use something like a pandas DataFrame? Simply, it's because I'm still very much a beginner. Eventually, I will be using the more advanced methods."
   ]
  },
  {
   "cell_type": "code",
   "execution_count": 2,
   "id": "cb9c103b",
   "metadata": {},
   "outputs": [],
   "source": [
    "import csv"
   ]
  },
  {
   "cell_type": "markdown",
   "id": "b887f26d",
   "metadata": {},
   "source": [
    "Next, I'll be using DictReader to grab all the data. I'll be storing in a list for the scope of this part of the project."
   ]
  },
  {
   "cell_type": "code",
   "execution_count": 3,
   "id": "0b96ce18",
   "metadata": {},
   "outputs": [],
   "source": [
    "cost = []\n",
    "\n",
    "with open('cost_distribution.csv') as data:\n",
    "    reader = csv.DictReader(data)\n",
    "    for row in reader:\n",
    "        cost.append(row)\n",
    "        #gas[row['Month']] = (row['Gas'].strip('$'))\n",
    "        "
   ]
  },
  {
   "cell_type": "markdown",
   "id": "7b553530",
   "metadata": {},
   "source": [
    "More Data Stuff:\n",
    "\n",
    "I'll need to add the year to each row, and then remove the data for 2022. This will be fun. There's probably a much more efficient way of doing this, but for practice's sake, I'll be using a function here."
   ]
  },
  {
   "cell_type": "code",
   "execution_count": 11,
   "id": "88bab960",
   "metadata": {},
   "outputs": [
    {
     "name": "stdout",
     "output_type": "stream",
     "text": [
      "{'Month': 'January', 'Utility': '$22.19', 'Gas': '$51.42', 'Electricity': '$58.52', 'Water': '$43.85', 'Internet': '$59.99', 'TOTAL': '$235.97', 'Occupants': '2', 'EACH': '$117.99', 'Year': 2018}\n",
      "{'Month': 'February', 'Utility': '$55.41', 'Gas': '$68.60', 'Electricity': '$60.61', 'Water': '$49.14', 'Internet': '$59.99', 'TOTAL': '$293.75', 'Occupants': '2', 'EACH': '$146.88', 'Year': 2018}\n",
      "{'Month': 'March', 'Utility': '$55.41', 'Gas': '$46.63', 'Electricity': '$29.75', 'Water': '$65.13', 'Internet': '$59.99', 'TOTAL': '$256.91', 'Occupants': '2', 'EACH': '$128.46', 'Year': 2018}\n",
      "{'Month': 'April', 'Utility': '$55.41', 'Gas': '$19.07', 'Electricity': '$56.67', 'Water': '$62.32', 'Internet': '$59.99', 'TOTAL': '$253.46', 'Occupants': '3', 'EACH': '$84.49', 'Year': 2018}\n",
      "{'Month': 'May', 'Utility': '$55.41', 'Gas': '$19.07', 'Electricity': '$56.67', 'Water': '$62.32', 'Internet': '$59.99', 'TOTAL': '$253.46', 'Occupants': '3', 'EACH': '$84.49', 'Year': 2018}\n",
      "{'Month': 'June', 'Utility': '$65.41', 'Gas': '$11.60', 'Electricity': '$89.69', 'Water': '$66.00', 'Internet': '$59.99', 'TOTAL': '$292.69', 'Occupants': '3', 'EACH': '$97.56', 'Year': 2018}\n",
      "{'Month': 'July', 'Utility': '$55.41', 'Gas': '$35.34', 'Electricity': '$93.53', 'Water': '$61.96', 'Internet': '$59.99', 'TOTAL': '$306.23', 'Occupants': '3', 'EACH': '$102.08', 'Year': 2018}\n",
      "{'Month': 'August', 'Utility': '$55.41', 'Gas': '$14.18', 'Electricity': '$193.46', 'Water': '$60.75', 'Internet': '$59.99', 'TOTAL': '$383.79', 'Occupants': '3', 'EACH': '$127.93', 'Year': 2018}\n",
      "{'Month': 'September', 'Utility': '$55.41', 'Gas': '$15.48', 'Electricity': '$160.06', 'Water': '$62.50', 'Internet': '$59.99', 'TOTAL': '$353.44', 'Occupants': '3', 'EACH': '$117.81', 'Year': 2018}\n",
      "{'Month': 'October', 'Utility': '$55.47', 'Gas': '$13.34', 'Electricity': '$116.77', 'Water': '$62.50', 'Internet': '$59.99', 'TOTAL': '$308.07', 'Occupants': '3', 'EACH': '$102.69', 'Year': 2018}\n",
      "{'Month': 'November', 'Utility': '$55.47', 'Gas': '$15.87', 'Electricity': '$46.26', 'Water': '$62.50', 'Internet': '$59.99', 'TOTAL': '$240.09', 'Occupants': '3', 'EACH': '$80.03', 'Year': 2018}\n",
      "{'Month': 'December', 'Utility': '$55.47', 'Gas': '$40.26', 'Electricity': '$89.00', 'Water': '$46.00', 'Internet': '$59.99', 'TOTAL': '$290.72', 'Occupants': '3', 'EACH': '$96.91', 'Year': 2018}\n"
     ]
    }
   ],
   "source": [
    "temp_months = []\n",
    "for i in cost:\n",
    "    if not i[\"Month\"] in temp_months:\n",
    "        temp_months.append(i[\"Month\"])\n",
    "        i[\"Year\"] = 2018\n",
    "        print(i)"
   ]
  }
 ],
 "metadata": {
  "interpreter": {
   "hash": "c3ebd03337b3f5baa02fa6db5757b79a463d22c92fd0b017e5981c4b3d61cddc"
  },
  "kernelspec": {
   "display_name": "Python 3.9.7 ('base')",
   "language": "python",
   "name": "python3"
  },
  "language_info": {
   "codemirror_mode": {
    "name": "ipython",
    "version": 3
   },
   "file_extension": ".py",
   "mimetype": "text/x-python",
   "name": "python",
   "nbconvert_exporter": "python",
   "pygments_lexer": "ipython3",
   "version": "3.9.7"
  }
 },
 "nbformat": 4,
 "nbformat_minor": 5
}
