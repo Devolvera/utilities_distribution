{
 "cells": [
  {
   "cell_type": "markdown",
   "id": "8d494a31",
   "metadata": {},
   "source": [
    "### Scoping My Data\n",
    "From what I've been learning through Codecademy, it seems that it's best to scour over the data, and then plan out my analysis accordingly. There are questions that will immediately come to mind, but as the owner of this data, it's easy to answer these questions without really using any analysis. For example:\n",
    "\n",
    "**On average, what month(s) incurred the most electricity costs?** This one is fairly easy to answer, even from someone who's never really seen this data. Summer months in Central California almost always use the most electricity of the year. The same can be said of the **gas** bill and the winter months.\n",
    "\n",
    "#### About the Data \n",
    "\n",
    "This is pretty self-explanatory; at the end of each month, I grabbed the bill for each utilities type. I then put them in a spreadsheet, totalled them, and then divided by the number of occupants living in the household. When it comes to occupants, I *could* provide context here, but I feel that for my current needs, it will be a time-waste. There will also be instances where data does not align with what you might expect. Unfortunately, I did not document the months where I received credits on bills. Also missing is the few months in 2021 where I had a crypto mining rig eating up about $50 in electricity each month. \n",
    "\n",
    "With these small cases, I will be sure to provide a tidbit of information for clarity (where I can). \n",
    "\n",
    "Because I will be analysing this data multiple times throughout my DS journey, I think it's best that I start with simple questions. As I learn more advanced methods of analysis, I can then add those questions. For example, taking the average cost of each utility type over each year and then comparing them will be much easier than doing the same but also calculating the average cost *per occupant*, and then adjusting values based on that (that actually seems pretty fun as I'm typing it out). Doing it the easy way, unfortunately, will result in skewed data most likely. But again, this is a subjective set of data and the accuracy isn't very important. \n",
    "\n",
    "By the end of this, I only hope to get better awareness on where costs go each month. I will not be using this data to make \"better business decisions.\" It will be an amusing project that will assist in my data science journey!\n",
    "\n",
    "#### So my first question will be simple: What was the average cost of each utility *per year*? Secondly, which year had the highest cost for *each* utility? Finally, which year was the most expensive *in total* utilities?\n",
    "\n",
    "***"
   ]
  },
  {
   "cell_type": "markdown",
   "id": "fcb4a042",
   "metadata": {},
   "source": [
    "First, of course, I will be needing to import the data from the csv. Initially, I'll be using the 'csv' python module. Why not use something like a pandas DataFrame? Simply, it's because I'm still very much a beginner. Eventually, I will be using the more advanced methods."
   ]
  },
  {
   "cell_type": "code",
   "execution_count": 10,
   "id": "cb9c103b",
   "metadata": {},
   "outputs": [],
   "source": [
    "import csv"
   ]
  },
  {
   "cell_type": "markdown",
   "id": "b887f26d",
   "metadata": {},
   "source": [
    "Next, I'll be using DictReader to grab all the data. I'll be storing in a list for the scope of this part of the project."
   ]
  },
  {
   "cell_type": "code",
   "execution_count": 11,
   "id": "0b96ce18",
   "metadata": {},
   "outputs": [],
   "source": [
    "cost = []\n",
    "\n",
    "with open('cost_distribution.csv') as data:\n",
    "    reader = csv.DictReader(data)\n",
    "    for row in reader:\n",
    "        cost.append(row)\n",
    "        #gas[row['Month']] = (row['Gas'].strip('$'))\n",
    "        "
   ]
  },
  {
   "cell_type": "markdown",
   "id": "7b553530",
   "metadata": {},
   "source": [
    "More Data Stuff:\n",
    "\n",
    "I'll need to add the year to each row, and then remove the data for 2022. This will be fun. There's probably a much more efficient way of doing this, but for practice's sake, I'll be using a function here.\n",
    "\n",
    "I will also be stripping 2022 data rather crudely; I will remove any row with 9 items in it, as the rows with Years added to them will have 10.\n",
    "\n",
    "### Special Thanks to [EddisFargo](https://github.com/EddisFargo) for helping me with this :) "
   ]
  },
  {
   "cell_type": "code",
   "execution_count": 12,
   "id": "88bab960",
   "metadata": {},
   "outputs": [],
   "source": [
    "current_year = 2018\n",
    "index = 0\n",
    "while current_year < 2022:\n",
    "    count = 0\n",
    "    while count < 12:\n",
    "        cost[index][\"Year\"] = current_year\n",
    "        count += 1\n",
    "        index += 1\n",
    "    current_year += 1\n",
    "\n",
    "for row in cost:\n",
    "    if (len(row)) == 9:\n",
    "        cost.remove(row)"
   ]
  },
  {
   "cell_type": "markdown",
   "id": "01ab18ce",
   "metadata": {},
   "source": [
    "There's more that could be done here, like verify the TOTALS and EACHES. Since I double checked in the spreadsheet and saw that each is a result of a calculation and not a raw input, I know these values to be true. For time's sake I will not be doing that, but later on I think it will be something I can work on. \n",
    "\n",
    "**So to my first question: What was the average cost of each utility per year?**\n",
    "\n",
    "For this, I think I want to write a function, since I've not so far in this project. It will have the utility type as the parameter, and then add each year's average for that utility type to a dict, and then return that dict. I will be able to call a specific year by its key/value pairing."
   ]
  },
  {
   "cell_type": "code",
   "execution_count": 13,
   "id": "ccdb1c22",
   "metadata": {},
   "outputs": [],
   "source": [
    "def util_avg(utility):  \n",
    "    util_avg = {}\n",
    "    current_year = 2018\n",
    "    index = 0\n",
    "    while current_year < 2022:\n",
    "        util_sum = 0\n",
    "        count = 0\n",
    "        while count < 12:\n",
    "            util_sum += float(cost[index][utility].strip('$'))\n",
    "            count += 1\n",
    "            index += 1\n",
    "        util_avg[current_year] = round(util_sum / 12, 2)\n",
    "        current_year += 1\n",
    "    return util_avg"
   ]
  },
  {
   "cell_type": "markdown",
   "id": "5ea89930",
   "metadata": {},
   "source": [
    "That took longer than expected, but now I can call the function and set to variables and print out results."
   ]
  },
  {
   "cell_type": "code",
   "execution_count": 14,
   "id": "f6bfb3f1",
   "metadata": {},
   "outputs": [
    {
     "name": "stdout",
     "output_type": "stream",
     "text": [
      "The average gas price in 2018 was $29.24.\n",
      "The average gas price in 2019 was $42.95.\n",
      "The average gas price in 2020 was $34.26.\n",
      "The average gas price in 2021 was $34.38.\n"
     ]
    }
   ],
   "source": [
    "gas_avg = util_avg(\"Gas\")\n",
    "\n",
    "for key, value in gas_avg.items():\n",
    "    print(\"The average gas price in {year} was ${cost}.\".format(year=key, cost=value))"
   ]
  },
  {
   "cell_type": "markdown",
   "id": "b18dfa48",
   "metadata": {},
   "source": [
    "This is great for finding averages for *each* utility, but for this question, I'd like to get them all in one fell swoop. However, i\"m going to just switch the year and utility, so I'll be passing the year as the parameter this time. This way I only have to call the function 3 times.\n",
    "\n",
    "### NOTE: This was not the first iteration of this function. I've spent several hours figuring out different loops, functions, parameters, etc to get ALL years/utilities averages within one function. I even tried using a list of utility types as a parameter and then getting all the averages based on that (future proofing for if I want to get averages for only certain groups of utilities). Iterating through years is much easier for me at this time. Since I won't be using this function for anything else, I'll just print the output of each average instead of returning the data in lists/dicts."
   ]
  },
  {
   "cell_type": "code",
   "execution_count": 22,
   "id": "10993604",
   "metadata": {},
   "outputs": [
    {
     "name": "stdout",
     "output_type": "stream",
     "text": [
      "{'Month': 'January', 'Utility': '$55.47', 'Gas': '$85.25', 'Electricity': '$105.40', 'Water': '$0.00', 'Internet': '$59.99', 'TOTAL': '$306.11', 'Occupants': '3', 'EACH': '$102.04', 'Year': 2019}\n",
      "{'Month': 'February', 'Utility': '$55.47', 'Gas': '$115.41', 'Electricity': '$106.76', 'Water': '$37.95', 'Internet': '$81.95', 'TOTAL': '$397.54', 'Occupants': '3', 'EACH': '$132.51', 'Year': 2019}\n",
      "{'Month': 'March', 'Utility': '$55.47', 'Gas': '$112.98', 'Electricity': '$103.46', 'Water': '$38.02', 'Internet': '$81.95', 'TOTAL': '$391.88', 'Occupants': '3', 'EACH': '$130.63', 'Year': 2019}\n",
      "{'Month': 'April', 'Utility': '$55.47', 'Gas': '$56.85', 'Electricity': '$112.17', 'Water': '$38.12', 'Internet': '$91.95', 'TOTAL': '$354.56', 'Occupants': '3', 'EACH': '$118.19', 'Year': 2019}\n",
      "{'Month': 'May', 'Utility': '$55.47', 'Gas': '$21.96', 'Electricity': '$104.05', 'Water': '$19.02', 'Internet': '$81.95', 'TOTAL': '$282.45', 'Occupants': '3', 'EACH': '$94.15', 'Year': 2019}\n",
      "{'Month': 'June', 'Utility': '$55.47', 'Gas': '$5.82', 'Electricity': '$139.00', 'Water': '$59.75', 'Internet': '$81.95', 'TOTAL': '$341.99', 'Occupants': '3', 'EACH': '$114.00', 'Year': 2019}\n",
      "{'Month': 'July', 'Utility': '$55.47', 'Gas': '$14.90', 'Electricity': '$299.46', 'Water': '$69.00', 'Internet': '$91.95', 'TOTAL': '$530.78', 'Occupants': '4', 'EACH': '$132.70', 'Year': 2019}\n",
      "{'Month': 'August', 'Utility': '$55.47', 'Gas': '$22.61', 'Electricity': '$347.20', 'Water': '$75.04', 'Internet': '$81.95', 'TOTAL': '$582.27', 'Occupants': '4', 'EACH': '$145.57', 'Year': 2019}\n",
      "{'Month': 'September', 'Utility': '$55.47', 'Gas': '$13.67', 'Electricity': '$218.65', 'Water': '$1.77', 'Internet': '$81.95', 'TOTAL': '$371.51', 'Occupants': '4', 'EACH': '$123.84', 'Year': 2019}\n",
      "{'Month': 'October', 'Utility': '$55.47', 'Gas': '$16.64', 'Electricity': '$162.24', 'Water': '$62.60', 'Internet': '$81.95', 'TOTAL': '$378.90', 'Occupants': '4', 'EACH': '$126.30', 'Year': 2019}\n",
      "{'Month': 'November', 'Utility': '$55.47', 'Gas': '$16.64', 'Electricity': '$70.51', 'Water': '$55.12', 'Internet': '$81.95', 'TOTAL': '$279.69', 'Occupants': '4', 'EACH': '$93.23', 'Year': 2019}\n",
      "{'Month': 'December', 'Utility': '$55.47', 'Gas': '$32.64', 'Electricity': '$127.45', 'Water': '$43.95', 'Internet': '$81.95', 'TOTAL': '$341.46', 'Occupants': '4', 'EACH': '$113.82', 'Year': 2019}\n"
     ]
    },
    {
     "ename": "KeyError",
     "evalue": "'Year'",
     "output_type": "error",
     "traceback": [
      "\u001b[1;31m---------------------------------------------------------------------------\u001b[0m",
      "\u001b[1;31mKeyError\u001b[0m                                  Traceback (most recent call last)",
      "\u001b[1;32mc:\\Users\\Donnie\\Desktop\\Projects\\utilities_distribution\\cost_distribution.ipynb Cell 13'\u001b[0m in \u001b[0;36m<cell line: 11>\u001b[1;34m()\u001b[0m\n\u001b[0;32m      <a href='vscode-notebook-cell:/c%3A/Users/Donnie/Desktop/Projects/utilities_distribution/cost_distribution.ipynb#ch0000012?line=3'>4</a>\u001b[0m         \u001b[39mif\u001b[39;00m row[\u001b[39m\"\u001b[39m\u001b[39mYear\u001b[39m\u001b[39m\"\u001b[39m] \u001b[39m==\u001b[39m year:\n\u001b[0;32m      <a href='vscode-notebook-cell:/c%3A/Users/Donnie/Desktop/Projects/utilities_distribution/cost_distribution.ipynb#ch0000012?line=4'>5</a>\u001b[0m             \u001b[39mprint\u001b[39m(row)\n\u001b[1;32m---> <a href='vscode-notebook-cell:/c%3A/Users/Donnie/Desktop/Projects/utilities_distribution/cost_distribution.ipynb#ch0000012?line=10'>11</a>\u001b[0m util_avg(\u001b[39m2019\u001b[39;49m)\n",
      "\u001b[1;32mc:\\Users\\Donnie\\Desktop\\Projects\\utilities_distribution\\cost_distribution.ipynb Cell 13'\u001b[0m in \u001b[0;36mutil_avg\u001b[1;34m(year)\u001b[0m\n\u001b[0;32m      <a href='vscode-notebook-cell:/c%3A/Users/Donnie/Desktop/Projects/utilities_distribution/cost_distribution.ipynb#ch0000012?line=1'>2</a>\u001b[0m utils \u001b[39m=\u001b[39m [\u001b[39m\"\u001b[39m\u001b[39mUtility\u001b[39m\u001b[39m\"\u001b[39m, \u001b[39m\"\u001b[39m\u001b[39mGas\u001b[39m\u001b[39m\"\u001b[39m, \u001b[39m\"\u001b[39m\u001b[39mElectricity\u001b[39m\u001b[39m\"\u001b[39m, \u001b[39m\"\u001b[39m\u001b[39mWater\u001b[39m\u001b[39m\"\u001b[39m, \u001b[39m\"\u001b[39m\u001b[39mInternet\u001b[39m\u001b[39m\"\u001b[39m]\n\u001b[0;32m      <a href='vscode-notebook-cell:/c%3A/Users/Donnie/Desktop/Projects/utilities_distribution/cost_distribution.ipynb#ch0000012?line=2'>3</a>\u001b[0m \u001b[39mfor\u001b[39;00m row \u001b[39min\u001b[39;00m cost:\n\u001b[1;32m----> <a href='vscode-notebook-cell:/c%3A/Users/Donnie/Desktop/Projects/utilities_distribution/cost_distribution.ipynb#ch0000012?line=3'>4</a>\u001b[0m     \u001b[39mif\u001b[39;00m row[\u001b[39m\"\u001b[39;49m\u001b[39mYear\u001b[39;49m\u001b[39m\"\u001b[39;49m] \u001b[39m==\u001b[39m year:\n\u001b[0;32m      <a href='vscode-notebook-cell:/c%3A/Users/Donnie/Desktop/Projects/utilities_distribution/cost_distribution.ipynb#ch0000012?line=4'>5</a>\u001b[0m         \u001b[39mprint\u001b[39m(row)\n",
      "\u001b[1;31mKeyError\u001b[0m: 'Year'"
     ]
    }
   ],
   "source": [
    "def util_avg(year):\n",
    "    utils = [\"Utility\", \"Gas\", \"Electricity\", \"Water\", \"Internet\"]\n",
    "    for row in cost:\n",
    "        if row[\"Year\"] == year:\n",
    "            print(row)\n",
    "                \n",
    "\n",
    "  \n",
    "\n",
    "\n",
    "util_avg(2019)"
   ]
  }
 ],
 "metadata": {
  "interpreter": {
   "hash": "c3ebd03337b3f5baa02fa6db5757b79a463d22c92fd0b017e5981c4b3d61cddc"
  },
  "kernelspec": {
   "display_name": "Python 3.9.7 ('base')",
   "language": "python",
   "name": "python3"
  },
  "language_info": {
   "codemirror_mode": {
    "name": "ipython",
    "version": 3
   },
   "file_extension": ".py",
   "mimetype": "text/x-python",
   "name": "python",
   "nbconvert_exporter": "python",
   "pygments_lexer": "ipython3",
   "version": "3.9.7"
  }
 },
 "nbformat": 4,
 "nbformat_minor": 5
}
