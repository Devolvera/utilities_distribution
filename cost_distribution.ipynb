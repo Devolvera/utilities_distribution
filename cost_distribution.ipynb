{
 "cells": [
  {
   "cell_type": "markdown",
   "id": "8d494a31",
   "metadata": {},
   "source": [
    "### Scoping My Data\n",
    "From what I've been learning through Codecademy, it seems that it's best to scour over the data, and then plan out my analysis accordingly. There are questions that will immediately come to mind, but as the owner of this data, it's easy to answer these questions without really using any analysis. For example:\n",
    "\n",
    "**On average, what month(s) incurred the most electricity costs?** This one is fairly easy to answer, even from someone who's never really seen this data. Summer months in Central California almost always use the most electricity of the year. The same can be said of the **gas** bill and the winter months.\n",
    "\n",
    "#### About the Data \n",
    "\n",
    "This is pretty self-explanatory; at the end of each month, I grabbed the bill for each utilities type. I then put them in a spreadsheet, totalled them, and then divided by the number of occupants living in the household. When it comes to occupants, I *could* provide context here, but I feel that for my current needs, it will be a time-waste. There will also be instances where data does not align with what you might expect. Unfortunately, I did not document the months where I received credits on bills. Also missing is the few months in 2021 where I had a crypto mining rig eating up about $50 in electricity each month. \n",
    "\n",
    "With these small cases, I will be sure to provide a tidbit of information for clarity (where I can). \n",
    "\n",
    "Because I will be analysing this data multiple times throughout my DS journey, I think it's best that I start with simple questions. As I learn more advanced methods of analysis, I can then add those questions. For example, taking the average cost of each utility type over each year and then comparing them will be much easier than doing the same but also calculating the average cost *per occupant*, and then adjusting values based on that (that actually seems pretty fun as I'm typing it out). Doing it the easy way, unfortunately, will result in skewed data most likely. But again, this is a subjective set of data and the accuracy isn't very important. \n",
    "\n",
    "By the end of this, I only hope to get better awareness on where costs go each month. I will not be using this data to make \"better business decisions.\" It will be an amusing project that will assist in my data science journey!\n",
    "\n",
    "#### So my first question will be simple: What was the average cost of each utility *per year*? Secondly, which year had the highest cost for *each* utility? Finally, which year was the most expensive *in total* utilities?\n",
    "\n",
    "***"
   ]
  },
  {
   "cell_type": "markdown",
   "id": "fcb4a042",
   "metadata": {},
   "source": [
    "First, of course, I will be needing to import the data from the csv. Initially, I'll be using the 'csv' python module. Why not use something like a pandas DataFrame? Simply, it's because I'm still very much a beginner. Eventually, I will be using the more advanced methods."
   ]
  },
  {
   "cell_type": "code",
   "execution_count": 12,
   "id": "cb9c103b",
   "metadata": {},
   "outputs": [],
   "source": [
    "import csv"
   ]
  },
  {
   "cell_type": "markdown",
   "id": "b887f26d",
   "metadata": {},
   "source": [
    "Next, I'll be using DictReader to grab all the data. I'll be storing in a list for the scope of this part of the project."
   ]
  },
  {
   "cell_type": "code",
   "execution_count": 13,
   "id": "0b96ce18",
   "metadata": {},
   "outputs": [],
   "source": [
    "cost = []\n",
    "\n",
    "with open('cost_distribution.csv') as data:\n",
    "    reader = csv.DictReader(data)\n",
    "    for row in reader:\n",
    "        cost.append(row)\n",
    "        #gas[row['Month']] = (row['Gas'].strip('$'))\n",
    "        "
   ]
  },
  {
   "cell_type": "markdown",
   "id": "7b553530",
   "metadata": {},
   "source": [
    "More Data Stuff:\n",
    "\n",
    "I'll need to add the year to each row, and then remove the data for 2022. This will be fun. There's probably a much more efficient way of doing this, but for practice's sake, I'll be using a function here."
   ]
  },
  {
   "cell_type": "code",
   "execution_count": 36,
   "id": "88bab960",
   "metadata": {},
   "outputs": [
    {
     "name": "stdout",
     "output_type": "stream",
     "text": [
      "{'Month': 'January', 'Utility': '$22.19', 'Gas': '$51.42', 'Electricity': '$58.52', 'Water': '$43.85', 'Internet': '$59.99', 'TOTAL': '$235.97', 'Occupants': '2', 'EACH': '$117.99', 'Year': 2018}\n",
      "{'Month': 'February', 'Utility': '$55.41', 'Gas': '$68.60', 'Electricity': '$60.61', 'Water': '$49.14', 'Internet': '$59.99', 'TOTAL': '$293.75', 'Occupants': '2', 'EACH': '$146.88', 'Year': 2018}\n",
      "{'Month': 'March', 'Utility': '$55.41', 'Gas': '$46.63', 'Electricity': '$29.75', 'Water': '$65.13', 'Internet': '$59.99', 'TOTAL': '$256.91', 'Occupants': '2', 'EACH': '$128.46', 'Year': 2018}\n",
      "{'Month': 'April', 'Utility': '$55.41', 'Gas': '$19.07', 'Electricity': '$56.67', 'Water': '$62.32', 'Internet': '$59.99', 'TOTAL': '$253.46', 'Occupants': '3', 'EACH': '$84.49', 'Year': 2018}\n",
      "{'Month': 'May', 'Utility': '$55.41', 'Gas': '$19.07', 'Electricity': '$56.67', 'Water': '$62.32', 'Internet': '$59.99', 'TOTAL': '$253.46', 'Occupants': '3', 'EACH': '$84.49', 'Year': 2018}\n",
      "{'Month': 'June', 'Utility': '$65.41', 'Gas': '$11.60', 'Electricity': '$89.69', 'Water': '$66.00', 'Internet': '$59.99', 'TOTAL': '$292.69', 'Occupants': '3', 'EACH': '$97.56', 'Year': 2018}\n",
      "{'Month': 'July', 'Utility': '$55.41', 'Gas': '$35.34', 'Electricity': '$93.53', 'Water': '$61.96', 'Internet': '$59.99', 'TOTAL': '$306.23', 'Occupants': '3', 'EACH': '$102.08', 'Year': 2018}\n",
      "{'Month': 'August', 'Utility': '$55.41', 'Gas': '$14.18', 'Electricity': '$193.46', 'Water': '$60.75', 'Internet': '$59.99', 'TOTAL': '$383.79', 'Occupants': '3', 'EACH': '$127.93', 'Year': 2018}\n",
      "{'Month': 'September', 'Utility': '$55.41', 'Gas': '$15.48', 'Electricity': '$160.06', 'Water': '$62.50', 'Internet': '$59.99', 'TOTAL': '$353.44', 'Occupants': '3', 'EACH': '$117.81', 'Year': 2018}\n",
      "{'Month': 'October', 'Utility': '$55.47', 'Gas': '$13.34', 'Electricity': '$116.77', 'Water': '$62.50', 'Internet': '$59.99', 'TOTAL': '$308.07', 'Occupants': '3', 'EACH': '$102.69', 'Year': 2018}\n",
      "{'Month': 'November', 'Utility': '$55.47', 'Gas': '$15.87', 'Electricity': '$46.26', 'Water': '$62.50', 'Internet': '$59.99', 'TOTAL': '$240.09', 'Occupants': '3', 'EACH': '$80.03', 'Year': 2018}\n",
      "{'Month': 'December', 'Utility': '$55.47', 'Gas': '$40.26', 'Electricity': '$89.00', 'Water': '$46.00', 'Internet': '$59.99', 'TOTAL': '$290.72', 'Occupants': '3', 'EACH': '$96.91', 'Year': 2018}\n",
      "{'Month': 'January', 'Utility': '$55.47', 'Gas': '$85.25', 'Electricity': '$105.40', 'Water': '$0.00', 'Internet': '$59.99', 'TOTAL': '$306.11', 'Occupants': '3', 'EACH': '$102.04', 'Year': 2019}\n",
      "{'Month': 'February', 'Utility': '$55.47', 'Gas': '$115.41', 'Electricity': '$106.76', 'Water': '$37.95', 'Internet': '$81.95', 'TOTAL': '$397.54', 'Occupants': '3', 'EACH': '$132.51', 'Year': 2019}\n",
      "{'Month': 'March', 'Utility': '$55.47', 'Gas': '$112.98', 'Electricity': '$103.46', 'Water': '$38.02', 'Internet': '$81.95', 'TOTAL': '$391.88', 'Occupants': '3', 'EACH': '$130.63', 'Year': 2019}\n",
      "{'Month': 'April', 'Utility': '$55.47', 'Gas': '$56.85', 'Electricity': '$112.17', 'Water': '$38.12', 'Internet': '$91.95', 'TOTAL': '$354.56', 'Occupants': '3', 'EACH': '$118.19', 'Year': 2019}\n",
      "{'Month': 'May', 'Utility': '$55.47', 'Gas': '$21.96', 'Electricity': '$104.05', 'Water': '$19.02', 'Internet': '$81.95', 'TOTAL': '$282.45', 'Occupants': '3', 'EACH': '$94.15', 'Year': 2019}\n",
      "{'Month': 'June', 'Utility': '$55.47', 'Gas': '$5.82', 'Electricity': '$139.00', 'Water': '$59.75', 'Internet': '$81.95', 'TOTAL': '$341.99', 'Occupants': '3', 'EACH': '$114.00', 'Year': 2019}\n",
      "{'Month': 'July', 'Utility': '$55.47', 'Gas': '$14.90', 'Electricity': '$299.46', 'Water': '$69.00', 'Internet': '$91.95', 'TOTAL': '$530.78', 'Occupants': '4', 'EACH': '$132.70', 'Year': 2019}\n",
      "{'Month': 'August', 'Utility': '$55.47', 'Gas': '$22.61', 'Electricity': '$347.20', 'Water': '$75.04', 'Internet': '$81.95', 'TOTAL': '$582.27', 'Occupants': '4', 'EACH': '$145.57', 'Year': 2019}\n",
      "{'Month': 'September', 'Utility': '$55.47', 'Gas': '$13.67', 'Electricity': '$218.65', 'Water': '$1.77', 'Internet': '$81.95', 'TOTAL': '$371.51', 'Occupants': '4', 'EACH': '$123.84', 'Year': 2019}\n",
      "{'Month': 'October', 'Utility': '$55.47', 'Gas': '$16.64', 'Electricity': '$162.24', 'Water': '$62.60', 'Internet': '$81.95', 'TOTAL': '$378.90', 'Occupants': '4', 'EACH': '$126.30', 'Year': 2019}\n",
      "{'Month': 'November', 'Utility': '$55.47', 'Gas': '$16.64', 'Electricity': '$70.51', 'Water': '$55.12', 'Internet': '$81.95', 'TOTAL': '$279.69', 'Occupants': '4', 'EACH': '$93.23', 'Year': 2019}\n",
      "{'Month': 'December', 'Utility': '$55.47', 'Gas': '$32.64', 'Electricity': '$127.45', 'Water': '$43.95', 'Internet': '$81.95', 'TOTAL': '$341.46', 'Occupants': '4', 'EACH': '$113.82', 'Year': 2019}\n",
      "{'Month': 'January', 'Utility': '$55.47', 'Gas': '$69.88', 'Electricity': '$107.00', 'Water': '$37.53', 'Internet': '$81.95', 'TOTAL': '$351.83', 'Occupants': '4', 'EACH': '$117.28', 'Year': 2020}\n",
      "{'Month': 'February', 'Utility': '$55.47', 'Gas': '$101.87', 'Electricity': '$105.87', 'Water': '$42.43', 'Internet': '$60.00', 'TOTAL': '$365.64', 'Occupants': '4', 'EACH': '$121.88', 'Year': 2020}\n",
      "{'Month': 'March', 'Utility': '$55.47', 'Gas': '$75.21', 'Electricity': '$108.13', 'Water': '$40.00', 'Internet': '$60.00', 'TOTAL': '$338.81', 'Occupants': '4', 'EACH': '$112.94', 'Year': 2020}\n",
      "{'Month': 'April', 'Utility': '$55.47', 'Gas': '$43.09', 'Electricity': '$88.01', 'Water': '$37.75', 'Internet': '$60.00', 'TOTAL': '$284.32', 'Occupants': '4', 'EACH': '$94.77', 'Year': 2020}\n",
      "{'Month': 'May', 'Utility': '$55.47', 'Gas': '$6.88', 'Electricity': '$59.85', 'Water': '$41.03', 'Internet': '$60.00', 'TOTAL': '$223.23', 'Occupants': '4', 'EACH': '$74.41', 'Year': 2020}\n",
      "{'Month': 'June', 'Utility': '$55.47', 'Gas': '$17.44', 'Electricity': '$137.71', 'Water': '$66.76', 'Internet': '$60.00', 'TOTAL': '$337.38', 'Occupants': '4', 'EACH': '$112.46', 'Year': 2020}\n",
      "{'Month': 'July', 'Utility': '$55.47', 'Gas': '$16.96', 'Electricity': '$164.09', 'Water': '$30.33', 'Internet': '$60.00', 'TOTAL': '$326.85', 'Occupants': '4', 'EACH': '$108.95', 'Year': 2020}\n",
      "{'Month': 'August', 'Utility': '$55.47', 'Gas': '$13.13', 'Electricity': '$215.71', 'Water': '$52.44', 'Internet': '$60.00', 'TOTAL': '$396.75', 'Occupants': '4', 'EACH': '$132.25', 'Year': 2020}\n",
      "{'Month': 'September', 'Utility': '$55.52', 'Gas': '$12.93', 'Electricity': '$234.83', 'Water': '$44.50', 'Internet': '$60.00', 'TOTAL': '$407.78', 'Occupants': '4', 'EACH': '$135.93', 'Year': 2020}\n",
      "{'Month': 'October', 'Utility': '$55.52', 'Gas': '$14.53', 'Electricity': '$162.87', 'Water': '$41.35', 'Internet': '$60.00', 'TOTAL': '$334.27', 'Occupants': '4', 'EACH': '$111.42', 'Year': 2020}\n",
      "{'Month': 'November', 'Utility': '$55.52', 'Gas': '$16.57', 'Electricity': '$128.85', 'Water': '$44.60', 'Internet': '$60.00', 'TOTAL': '$305.54', 'Occupants': '4', 'EACH': '$101.85', 'Year': 2020}\n",
      "{'Month': 'December', 'Utility': '$55.57', 'Gas': '$22.69', 'Electricity': '$156.71', 'Water': '$43.01', 'Internet': '$60.00', 'TOTAL': '$337.98', 'Occupants': '4', 'EACH': '$112.66', 'Year': 2020}\n",
      "{'Month': 'January', 'Utility': '$55.57', 'Gas': '$98.70', 'Electricity': '$166.12', 'Water': '$35.09', 'Internet': '$80.00', 'TOTAL': '$435.48', 'Occupants': '4', 'EACH': '$145.16', 'Year': 2021}\n",
      "{'Month': 'February', 'Utility': '$55.57', 'Gas': '$87.93', 'Electricity': '$132.04', 'Water': '$34.04', 'Internet': '$80.00', 'TOTAL': '$389.58', 'Occupants': '4', 'EACH': '$129.86', 'Year': 2021}\n",
      "{'Month': 'March', 'Utility': '$55.57', 'Gas': '$55.07', 'Electricity': '$125.15', 'Water': '$40.39', 'Internet': '$80.00', 'TOTAL': '$356.18', 'Occupants': '4', 'EACH': '$118.73', 'Year': 2021}\n",
      "{'Month': 'April', 'Utility': '$55.57', 'Gas': '$39.42', 'Electricity': '$100.00', 'Water': '$42.02', 'Internet': '$80.00', 'TOTAL': '$317.01', 'Occupants': '4', 'EACH': '$105.67', 'Year': 2021}\n",
      "{'Month': 'May', 'Utility': '$55.57', 'Gas': '$1.42', 'Electricity': '$97.92', 'Water': '$53.85', 'Internet': '$80.00', 'TOTAL': '$288.76', 'Occupants': '4', 'EACH': '$96.25', 'Year': 2021}\n",
      "{'Month': 'June', 'Utility': '$55.57', 'Gas': '$17.12', 'Electricity': '$166.17', 'Water': '$53.95', 'Internet': '$80.00', 'TOTAL': '$372.81', 'Occupants': '3', 'EACH': '$124.27', 'Year': 2021}\n",
      "{'Month': 'July', 'Utility': '$55.57', 'Gas': '$17.19', 'Electricity': '$199.19', 'Water': '$49.51', 'Internet': '$80.00', 'TOTAL': '$401.46', 'Occupants': '3', 'EACH': '$100.37', 'Year': 2021}\n",
      "{'Month': 'August', 'Utility': '$55.57', 'Gas': '$17.13', 'Electricity': '$292.73', 'Water': '$62.28', 'Internet': '$80.00', 'TOTAL': '$507.71', 'Occupants': '3', 'EACH': '$126.93', 'Year': 2021}\n",
      "{'Month': 'September', 'Utility': '$55.57', 'Gas': '$14.18', 'Electricity': '$241.85', 'Water': '$57.02', 'Internet': '$80.00', 'TOTAL': '$448.62', 'Occupants': '3', 'EACH': '$112.16', 'Year': 2021}\n",
      "{'Month': 'October', 'Utility': '$55.59', 'Gas': '$15.87', 'Electricity': '$192.96', 'Water': '$64.88', 'Internet': '$80.00', 'TOTAL': '$409.30', 'Occupants': '3', 'EACH': '$102.33', 'Year': 2021}\n",
      "{'Month': 'November', 'Utility': '$55.59', 'Gas': '$19.47', 'Electricity': '$86.01', 'Water': '$40.84', 'Internet': '$80.00', 'TOTAL': '$281.91', 'Occupants': '3', 'EACH': '$70.48', 'Year': 2021}\n",
      "{'Month': 'December', 'Utility': '$55.59', 'Gas': '$29.10', 'Electricity': '$164.54', 'Water': '$39.04', 'Internet': '$80.00', 'TOTAL': '$368.27', 'Occupants': '4', 'EACH': '$92.07', 'Year': 2021}\n",
      "{'Month': 'January', 'Utility': '$55.59', 'Gas': '$68.50', 'Electricity': '$216.24', 'Water': '$44.83', 'Internet': '$80.00', 'TOTAL': '$465.16', 'Occupants': '3', 'EACH': '$155.05'}\n",
      "{'Month': 'February', 'Utility': '$55.59', 'Gas': '$67.45', 'Electricity': '$203.50', 'Water': '$19.66', 'Internet': '$80.00', 'TOTAL': '$426.20', 'Occupants': '3', 'EACH': '$142.07'}\n",
      "{'Month': 'March', 'Utility': '$55.59', 'Gas': '$48.94', 'Electricity': '$197.45', 'Water': '$40.14', 'Internet': '$80.00', 'TOTAL': '$422.12', 'Occupants': '3', 'EACH': '$140.71'}\n",
      "{'Month': 'April', 'Utility': '$55.59', 'Gas': '$21.06', 'Electricity': '$175.60', 'Water': '$53.15', 'Internet': '$93.00', 'TOTAL': '$398.40', 'Occupants': '3', 'EACH': '$132.80', 'Year': 2018}\n"
     ]
    }
   ],
   "source": [
    "current_year = 2018\n",
    "index = 0\n",
    "while current_year < 2022:\n",
    "    count = 0\n",
    "    while count < 12:\n",
    "        cost[index][\"Year\"] = current_year\n",
    "        count += 1\n",
    "        index += 1\n",
    "    current_year += 1\n",
    "\n",
    "for row in cost:\n",
    "    print(row)\n"
   ]
  }
 ],
 "metadata": {
  "interpreter": {
   "hash": "c3ebd03337b3f5baa02fa6db5757b79a463d22c92fd0b017e5981c4b3d61cddc"
  },
  "kernelspec": {
   "display_name": "Python 3.9.7 ('base')",
   "language": "python",
   "name": "python3"
  },
  "language_info": {
   "codemirror_mode": {
    "name": "ipython",
    "version": 3
   },
   "file_extension": ".py",
   "mimetype": "text/x-python",
   "name": "python",
   "nbconvert_exporter": "python",
   "pygments_lexer": "ipython3",
   "version": "3.9.7"
  }
 },
 "nbformat": 4,
 "nbformat_minor": 5
}
