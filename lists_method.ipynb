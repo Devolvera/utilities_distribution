{
 "cells": [
  {
   "cell_type": "markdown",
   "id": "01ff6135",
   "metadata": {},
   "source": [
    "# UPDATE: This notebook is currently broken as I've updated the CSV"
   ]
  },
  {
   "cell_type": "markdown",
   "id": "8d494a31",
   "metadata": {},
   "source": [
    "### Scoping My Data\n",
    "From what I've been learning through Codecademy, it seems that it's best to scour over the data, and then plan out my analysis accordingly. There are questions that will immediately come to mind, but as the owner of this data, it's easy to answer these questions without really using any analysis. For example:\n",
    "\n",
    "**On average, what month(s) incurred the most electricity costs?** This one is fairly easy to answer, even from someone who's never really seen this data. Summer months in Central California almost always use the most electricity of the year. The same can be said of the **gas** bill and the winter months.\n",
    "\n",
    "#### About the Data \n",
    "\n",
    "This is pretty self-explanatory; at the end of each month, I grabbed the bill for each utilities type. I then put them in a spreadsheet, totalled them, and then divided by the number of occupants living in the household. When it comes to occupants, I *could* provide context here, but I feel that for my current needs, it will be a time-waste. There will also be instances where data does not align with what you might expect. Unfortunately, I did not document the months where I received credits on bills. Also missing is the few months in 2021 where I had a crypto mining rig eating up about $50 in electricity each month. \n",
    "\n",
    "With these small cases, I will be sure to provide a tidbit of information for clarity (where I can). \n",
    "\n",
    "Because I will be analysing this data multiple times throughout my DS journey, I think it's best that I start with simple questions. As I learn more advanced methods of analysis, I can then add those questions. For example, taking the average cost of each utility type over each year and then comparing them will be much easier than doing the same but also calculating the average cost *per occupant*, and then adjusting values based on that (that actually seems pretty fun as I'm typing it out). Doing it the easy way, unfortunately, will result in skewed data most likely. But again, this is a subjective set of data and the accuracy isn't very important. \n",
    "\n",
    "By the end of this, I only hope to get better awareness on where costs go each month. I will not be using this data to make \"better business decisions.\" It will be an amusing project that will assist in my data science journey!\n",
    "\n",
    "#### So my first question will be simple: What was the average cost of each utility *per year*? Secondly, which year had the highest cost for *each* utility? Finally, which year was the most expensive *in total* utilities?\n",
    "\n",
    "***"
   ]
  },
  {
   "cell_type": "markdown",
   "id": "fcb4a042",
   "metadata": {},
   "source": [
    "First, of course, I will be needing to import the data from the csv. Initially, I'll be using the 'csv' python module. Why not use something like a pandas DataFrame? Simply, it's because I'm still very much a beginner. Eventually, I will be using the more advanced methods."
   ]
  },
  {
   "cell_type": "code",
   "execution_count": 1,
   "id": "cb9c103b",
   "metadata": {},
   "outputs": [],
   "source": [
    "import csv"
   ]
  },
  {
   "cell_type": "markdown",
   "id": "b887f26d",
   "metadata": {},
   "source": [
    "Next, I'll be using DictReader to grab all the data. I'll be storing in a list for the scope of this part of the project."
   ]
  },
  {
   "cell_type": "code",
   "execution_count": 2,
   "id": "0b96ce18",
   "metadata": {},
   "outputs": [],
   "source": [
    "cost = []\n",
    "\n",
    "with open('cost_distribution.csv') as data:\n",
    "    reader = csv.DictReader(data)\n",
    "    for row in reader:\n",
    "        cost.append(row)\n",
    "        #gas[row['Month']] = (row['Gas'].strip('$'))\n",
    "        "
   ]
  },
  {
   "cell_type": "markdown",
   "id": "7b553530",
   "metadata": {},
   "source": [
    "More Data Stuff:\n",
    "\n",
    "I'll need to add the year to each row, and then remove the data for 2022. This will be fun. There's probably a much more efficient way of doing this, but for practice's sake, I'll be using a function here.\n",
    "\n",
    "I will also be stripping 2022 data rather crudely; I will remove any row with 9 items in it, as the rows with Years added to them will have 10.\n",
    "\n",
    "### Special Thanks to [EddisFargo](https://github.com/EddisFargo) for helping me with this :) "
   ]
  },
  {
   "cell_type": "markdown",
   "id": "c705d4c4",
   "metadata": {},
   "source": []
  },
  {
   "cell_type": "code",
   "execution_count": 376,
   "id": "88bab960",
   "metadata": {},
   "outputs": [],
   "source": [
    "'''\n",
    "\n",
    "current_year = 2018\n",
    "index = 0\n",
    "while current_year < 2022:\n",
    "    count = 0\n",
    "    while count < 12:\n",
    "        cost[index][\"Year\"] = current_year\n",
    "        count += 1\n",
    "        index += 1\n",
    "    current_year += 1\n",
    "\n",
    "count = 0\n",
    "for i in range(len(cost)):\n",
    "    if (len(cost[i])) == 9:\n",
    "        count += 1\n",
    "\n",
    " # ONLY RUN THIS ONCE OR ELSE ITLL KEEP DELETING. TRYING TO FIGURE OUT A FIX       \n",
    "del cost[-4:]\n",
    "\n",
    "'''"
   ]
  },
  {
   "cell_type": "markdown",
   "id": "01ab18ce",
   "metadata": {},
   "source": [
    "There's more that could be done here, like verify the TOTALS and EACHES. Since I double checked in the spreadsheet and saw that each is a result of a calculation and not a raw input, I know these values to be true. For time's sake I will not be doing that, but later on I think it will be something I can work on. \n",
    "\n",
    "**So to my first question: What was the average cost of each utility per year?**\n",
    "\n",
    "For this, I think I want to write a function, since I've not so far in this project. It will have the utility type as the parameter, and then add each year's average for that utility type to a dict, and then return that dict. I will be able to call a specific year by its key/value pairing."
   ]
  },
  {
   "cell_type": "code",
   "execution_count": 377,
   "id": "ccdb1c22",
   "metadata": {},
   "outputs": [],
   "source": [
    "def util_avg(utility):  \n",
    "    util_avg = {}\n",
    "    current_year = 2018\n",
    "    index = 0\n",
    "    while current_year < 2022:\n",
    "        util_sum = 0\n",
    "        count = 0\n",
    "        while count < 12:\n",
    "            util_sum += float(cost[index][utility].strip('$'))\n",
    "            rounded_avg = round(util_sum / 12, 2)\n",
    "            count += 1\n",
    "            index += 1\n",
    "        util_avg[current_year] = rounded_avg\n",
    "        print(\"The average {util} price in {year} was ${cost}.\".format(util=utility, year=current_year, cost=rounded_avg))\n",
    "        current_year += 1\n"
   ]
  },
  {
   "cell_type": "markdown",
   "id": "b18dfa48",
   "metadata": {},
   "source": [
    "This is great for finding averages for *each* utility, but for this question, I'd like to get them all in one fell swoop. However, i\"m going to just switch the year and utility, so I'll be passing the year as the parameter this time. This way I only have to call the function 3 times.\n",
    "\n",
    "### NOTE: This was not the first iteration of this function. I've spent several hours figuring out different loops, functions, parameters, etc to get ALL years/utilities averages within one function. I even tried using a list of utility types as a parameter and then getting all the averages based on that (future proofing for if I want to get averages for only certain groups of utilities). Iterating through years is much easier for me at this time. Since I won't be using this function for anything else, I'll just print the output of each average instead of returning the data in lists/dicts."
   ]
  },
  {
   "cell_type": "markdown",
   "id": "433d3643",
   "metadata": {},
   "source": [
    "## UPDATE: I've decided to just stick with what I have, because now that I'm learning pandas/dataframes, I'm finding they have ways to do all of this so much easier. So for now, I will answer my questions with the methods I've been using. And I will start a new notebook using Pandas and DataFrame methods. "
   ]
  },
  {
   "cell_type": "markdown",
   "id": "936f7b36",
   "metadata": {},
   "source": [
    "### Q1: What was the average cost of each utility per year?\n",
    "\n",
    "Let's run the following function and find out."
   ]
  },
  {
   "cell_type": "code",
   "execution_count": 378,
   "id": "12dc001e",
   "metadata": {},
   "outputs": [
    {
     "name": "stdout",
     "output_type": "stream",
     "text": [
      "The average Utility price in 2018 was $53.49.\n",
      "The average Utility price in 2019 was $55.47.\n",
      "The average Utility price in 2020 was $55.49.\n",
      "The average Utility price in 2021 was $55.58.\n",
      " \n",
      "The average Gas price in 2018 was $29.24.\n",
      "The average Gas price in 2019 was $42.95.\n",
      "The average Gas price in 2020 was $34.26.\n",
      "The average Gas price in 2021 was $34.38.\n",
      " \n",
      "The average Electricity price in 2018 was $87.58.\n",
      "The average Electricity price in 2019 was $158.03.\n",
      "The average Electricity price in 2020 was $139.14.\n",
      "The average Electricity price in 2021 was $163.72.\n",
      " \n",
      "The average Water price in 2018 was $58.75.\n",
      "The average Water price in 2019 was $41.7.\n",
      "The average Water price in 2020 was $43.48.\n",
      "The average Water price in 2021 was $47.74.\n",
      " \n",
      "The average Internet price in 2018 was $59.99.\n",
      "The average Internet price in 2019 was $81.79.\n",
      "The average Internet price in 2020 was $61.83.\n",
      "The average Internet price in 2021 was $80.0.\n",
      " \n"
     ]
    }
   ],
   "source": [
    "utils = [\"Utility\", \"Gas\", \"Electricity\", \"Water\", \"Internet\"]\n",
    "\n",
    "for util in utils:\n",
    "    util_avg(util)\n",
    "    print(\" \")"
   ]
  },
  {
   "cell_type": "markdown",
   "id": "e10708bd",
   "metadata": {},
   "source": [
    "### Q2: Which year had the highest cost for each utility?\n",
    "\n",
    "This should be straightforward (should be), I can loop through each utility and grab the highest value. "
   ]
  },
  {
   "cell_type": "code",
   "execution_count": 379,
   "id": "fef84b12",
   "metadata": {},
   "outputs": [],
   "source": [
    "def highest_cost_year(utility):\n",
    "    base_cost = 0\n",
    "    year = 0\n",
    "    month = 0\n",
    "    for i in range(len(cost)):\n",
    "        new_cost = float(cost[i][utility].strip(\"$\"))\n",
    "        while new_cost > base_cost:\n",
    "            base_cost = new_cost\n",
    "            year = cost[i][\"Year\"]\n",
    "            month = cost[i][\"Month\"]\n",
    "    print(\"The highest {util} cost occured in {year}. Its cost was ${cost} in the month of {month}.\".format(util=utility, year=year, cost=base_cost, month=month))"
   ]
  },
  {
   "cell_type": "markdown",
   "id": "9005f21f",
   "metadata": {},
   "source": [
    "Now we run this function to find out which year and month each utility costed the most."
   ]
  },
  {
   "cell_type": "code",
   "execution_count": 380,
   "id": "2961ed93",
   "metadata": {},
   "outputs": [
    {
     "name": "stdout",
     "output_type": "stream",
     "text": [
      "The highest Utility cost occured in 2018. Its cost was $65.41 in the month of June.\n",
      "The highest Gas cost occured in 2019. Its cost was $115.41 in the month of February.\n",
      "The highest Electricity cost occured in 2019. Its cost was $347.2 in the month of August.\n",
      "The highest Water cost occured in 2019. Its cost was $75.04 in the month of August.\n",
      "The highest Internet cost occured in 2019. Its cost was $91.95 in the month of April.\n"
     ]
    }
   ],
   "source": [
    "utils = [\"Utility\", \"Gas\", \"Electricity\", \"Water\", \"Internet\"]\n",
    "\n",
    "for util in utils:\n",
    "    highest_cost_year(util)"
   ]
  },
  {
   "cell_type": "markdown",
   "id": "5029bf2a",
   "metadata": {},
   "source": [
    "Boy was 2019 expensive. This was probably due to the introduction of a 4th person who may or may not have been a utility hog. \n",
    "\n",
    "Now for the last question!\n",
    "\n",
    "### Which year was the most expensive in TOTAL utilities?"
   ]
  },
  {
   "cell_type": "code",
   "execution_count": 381,
   "id": "9e954e27",
   "metadata": {},
   "outputs": [
    {
     "name": "stdout",
     "output_type": "stream",
     "text": [
      "2021 was the most expensive year, with total utilities costing $4577.09 at an average monthly cost of $381.42.\n"
     ]
    }
   ],
   "source": [
    "current_year = 2018\n",
    "base_total = 0\n",
    "index = 0\n",
    "year_of_total = 0\n",
    "while current_year < 2022:\n",
    "    \n",
    "    new_total = 0\n",
    "    count = 0\n",
    "    while count < 12:\n",
    "        new_total += float(cost[index][\"TOTAL\"].strip(\"$\"))\n",
    "        if new_total > base_total:\n",
    "            base_total = new_total\n",
    "            year_of_total = cost[index][\"Year\"]\n",
    "\n",
    "        index += 1\n",
    "        count += 1\n",
    "    current_year += 1\n",
    "tot_avg = round(base_total / 12, 2)\n",
    "\n",
    "print(\"{year} was the most expensive year, with total utilities costing ${cost} at an average monthly cost of ${avg}.\".format(cost=base_total, year=year_of_total, avg=tot_avg))\n",
    "    \n",
    "    "
   ]
  },
  {
   "cell_type": "markdown",
   "id": "1b4a5c8e",
   "metadata": {},
   "source": [
    "Very anti-climactic if I do say so myself. It makes sense that things costed more as time went on. Instead of what I did for the last question, I opted to directly as the 3rd question through our loop, cutting out total costs for all other years.\n",
    "\n",
    "I can calculate the percentage change cost year-over-year next if I wanted to, but I believe this is it. I did it! "
   ]
  }
 ],
 "metadata": {
  "interpreter": {
   "hash": "c3ebd03337b3f5baa02fa6db5757b79a463d22c92fd0b017e5981c4b3d61cddc"
  },
  "kernelspec": {
   "display_name": "Python 3.9.7 ('base')",
   "language": "python",
   "name": "python3"
  },
  "language_info": {
   "codemirror_mode": {
    "name": "ipython",
    "version": 3
   },
   "file_extension": ".py",
   "mimetype": "text/x-python",
   "name": "python",
   "nbconvert_exporter": "python",
   "pygments_lexer": "ipython3",
   "version": "3.9.7"
  }
 },
 "nbformat": 4,
 "nbformat_minor": 5
}
