{
 "cells": [
  {
   "cell_type": "markdown",
   "id": "42d854d1",
   "metadata": {},
   "source": [
    "\n",
    "##### Question #2: Which year had the highest cost for *each* utility?\n",
    "##### Question #3: Which year was the most expensive *in total* utilities?\n"
   ]
  },
  {
   "cell_type": "markdown",
   "id": "5f612800",
   "metadata": {},
   "source": [
    "First Steps: Import Data and Clean:\n",
    "\n",
    "1. Function to remove dollar signs from all values for aggregate functions\n",
    "2. Remove 2022 data from dataset\n",
    "3. Convert Dollar Amounts to Float"
   ]
  },
  {
   "cell_type": "code",
   "execution_count": 101,
   "id": "96ec602f",
   "metadata": {},
   "outputs": [],
   "source": [
    "import pandas as pd\n",
    "\n",
    "# 1\n",
    "def trim_dollars(df):\n",
    "    trim_strings = lambda x: x.strip('$') if isinstance(x, str) else x\n",
    "    return df.applymap(trim_strings)\n",
    "\n",
    "df = pd.read_csv('cost_distribution.csv')\n",
    "# 2\n",
    "df.drop(df[df.Year == 2022].index, inplace=True)\n",
    "df = trim_dollars(df)\n",
    "# 3\n",
    "df = df.astype({'Utility': 'float', 'Gas': 'float', 'Electricity': 'float', 'Water': 'float', 'Internet': 'float', 'TOTAL': 'float', 'EACH': 'float'})"
   ]
  },
  {
   "cell_type": "markdown",
   "id": "94d074e4",
   "metadata": {},
   "source": [
    "Question #1: What was the average cost of each utility *per year*?"
   ]
  },
  {
   "cell_type": "code",
   "execution_count": 102,
   "id": "01b069ee",
   "metadata": {},
   "outputs": [
    {
     "name": "stdout",
     "output_type": "stream",
     "text": [
      "      Utility    Gas  Electricity  Water  Internet\n",
      "Year                                              \n",
      "2018    53.49  29.24        87.58  58.75     59.99\n",
      "2019    55.47  42.95       158.03  41.70     81.79\n",
      "2020    55.49  34.26       139.14  43.48     61.83\n",
      "2021    55.58  34.38       163.72  47.74     80.00\n"
     ]
    }
   ],
   "source": [
    "yearly_mean = df.groupby('Year').agg({'Utility': 'mean', 'Gas': 'mean', 'Electricity': 'mean', 'Water': 'mean', 'Internet': 'mean'}).round(2)\n",
    "\n",
    "print(yearly_mean)"
   ]
  },
  {
   "cell_type": "code",
   "execution_count": null,
   "id": "bd8879d2",
   "metadata": {},
   "outputs": [],
   "source": []
  }
 ],
 "metadata": {
  "interpreter": {
   "hash": "c3ebd03337b3f5baa02fa6db5757b79a463d22c92fd0b017e5981c4b3d61cddc"
  },
  "kernelspec": {
   "display_name": "Python 3.9.7 ('base')",
   "language": "python",
   "name": "python3"
  },
  "language_info": {
   "codemirror_mode": {
    "name": "ipython",
    "version": 3
   },
   "file_extension": ".py",
   "mimetype": "text/x-python",
   "name": "python",
   "nbconvert_exporter": "python",
   "pygments_lexer": "ipython3",
   "version": "3.9.7"
  }
 },
 "nbformat": 4,
 "nbformat_minor": 5
}
